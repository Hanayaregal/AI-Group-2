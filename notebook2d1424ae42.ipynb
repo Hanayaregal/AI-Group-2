{
 "cells": [
  {
   "cell_type": "code",
   "execution_count": 1,
   "id": "500981c5",
   "metadata": {
    "_cell_guid": "b1076dfc-b9ad-4769-8c92-a6c4dae69d19",
    "_uuid": "8f2839f25d086af736a60e9eeb907d3b93b6e0e5",
    "execution": {
     "iopub.execute_input": "2025-04-01T16:26:21.015835Z",
     "iopub.status.busy": "2025-04-01T16:26:21.015452Z",
     "iopub.status.idle": "2025-04-01T16:26:22.134873Z",
     "shell.execute_reply": "2025-04-01T16:26:22.133715Z"
    },
    "papermill": {
     "duration": 1.125262,
     "end_time": "2025-04-01T16:26:22.137058",
     "exception": false,
     "start_time": "2025-04-01T16:26:21.011796",
     "status": "completed"
    },
    "tags": []
   },
   "outputs": [],
   "source": [
    "# This Python 3 environment comes with many helpful analytics libraries installed\n",
    "# It is defined by the kaggle/python Docker image: https://github.com/kaggle/docker-python\n",
    "# For example, here's several helpful packages to load\n",
    "\n",
    "import numpy as np # linear algebra\n",
    "import pandas as pd # data processing, CSV file I/O (e.g. pd.read_csv)\n",
    "\n",
    "# Input data files are available in the read-only \"../input/\" directory\n",
    "# For example, running this (by clicking run or pressing Shift+Enter) will list all files under the input directory\n",
    "\n",
    "import os\n",
    "for dirname, _, filenames in os.walk('/kaggle/input'):\n",
    "    for filename in filenames:\n",
    "        print(os.path.join(dirname, filename))\n",
    "\n",
    "# You can write up to 20GB to the current directory (/kaggle/working/) that gets preserved as output when you create a version using \"Save & Run All\" \n",
    "# You can also write temporary files to /kaggle/temp/, but they won't be saved outside of the current session"
   ]
  },
  {
   "cell_type": "code",
   "execution_count": 2,
   "id": "f1018e77",
   "metadata": {
    "execution": {
     "iopub.execute_input": "2025-04-01T16:26:22.143915Z",
     "iopub.status.busy": "2025-04-01T16:26:22.143332Z",
     "iopub.status.idle": "2025-04-01T16:26:24.235534Z",
     "shell.execute_reply": "2025-04-01T16:26:24.234150Z"
    },
    "papermill": {
     "duration": 2.097444,
     "end_time": "2025-04-01T16:26:24.237652",
     "exception": false,
     "start_time": "2025-04-01T16:26:22.140208",
     "status": "completed"
    },
    "tags": []
   },
   "outputs": [
    {
     "name": "stdout",
     "output_type": "stream",
     "text": [
      "Mean Squared Error: 29.44252070612646\n",
      "R-squared: 0.8895905473520258\n",
      "Model coefficients: [ 3.33005818 11.78364633]\n",
      "Model intercept: 75.71428571428571\n"
     ]
    }
   ],
   "source": [
    "# Import necessary libraries\n",
    "import pandas as pd\n",
    "import numpy as np\n",
    "from sklearn.model_selection import train_test_split\n",
    "from sklearn.linear_model import LinearRegression\n",
    "from sklearn.metrics import mean_squared_error, r2_score\n",
    "from sklearn.preprocessing import StandardScaler\n",
    "\n",
    "# Step 1: Load or create a dataset\n",
    "# Example dataset with features: 'study_hours', 'attendance_percentage' and target 'final_score'\n",
    "data = {\n",
    "    'study_hours': [5, 10, 3, 8, 7, 2, 6, 9, 4, 1],\n",
    "    'attendance_percentage': [80, 90, 75, 85, 88, 70, 82, 91, 78, 60],\n",
    "    'final_score': [75, 90, 65, 85, 88, 50, 80, 92, 70, 45]\n",
    "}\n",
    "\n",
    "df = pd.DataFrame(data)\n",
    "\n",
    "# Step 2: Preprocess the data\n",
    "# Features and target\n",
    "X = df[['study_hours', 'attendance_percentage']]  # Features\n",
    "y = df['final_score']  # Target\n",
    "\n",
    "# Split the data into training and testing sets\n",
    "X_train, X_test, y_train, y_test = train_test_split(X, y, test_size=0.3, random_state=42)\n",
    "\n",
    "# Optionally, scale the features\n",
    "scaler = StandardScaler()\n",
    "X_train_scaled = scaler.fit_transform(X_train)\n",
    "X_test_scaled = scaler.transform(X_test)\n",
    "\n",
    "# Step 3: Train the model (Linear Regression)\n",
    "model = LinearRegression()\n",
    "model.fit(X_train_scaled, y_train)\n",
    "\n",
    "# Step 4: Make predictions on the test set\n",
    "y_pred = model.predict(X_test_scaled)\n",
    "\n",
    "# Step 5: Evaluate the model\n",
    "mse = mean_squared_error(y_test, y_pred)\n",
    "r2 = r2_score(y_test, y_pred)\n",
    "\n",
    "print(f\"Mean Squared Error: {mse}\")\n",
    "print(f\"R-squared: {r2}\")\n",
    "\n",
    "# Optional: Print the coefficients and intercept of the model\n",
    "print(f\"Model coefficients: {model.coef_}\")\n",
    "print(f\"Model intercept: {model.intercept_}\")\n",
    "\n",
    "\n"
   ]
  },
  {
   "cell_type": "code",
   "execution_count": null,
   "id": "70be4a30",
   "metadata": {
    "papermill": {
     "duration": 0.001816,
     "end_time": "2025-04-01T16:26:24.241771",
     "exception": false,
     "start_time": "2025-04-01T16:26:24.239955",
     "status": "completed"
    },
    "tags": []
   },
   "outputs": [],
   "source": []
  },
  {
   "cell_type": "code",
   "execution_count": null,
   "id": "18cf50a1",
   "metadata": {
    "papermill": {
     "duration": 0.001661,
     "end_time": "2025-04-01T16:26:24.245393",
     "exception": false,
     "start_time": "2025-04-01T16:26:24.243732",
     "status": "completed"
    },
    "tags": []
   },
   "outputs": [],
   "source": []
  },
  {
   "cell_type": "code",
   "execution_count": null,
   "id": "12562ac5",
   "metadata": {
    "papermill": {
     "duration": 0.001944,
     "end_time": "2025-04-01T16:26:24.249729",
     "exception": false,
     "start_time": "2025-04-01T16:26:24.247785",
     "status": "completed"
    },
    "tags": []
   },
   "outputs": [],
   "source": []
  }
 ],
 "metadata": {
  "kaggle": {
   "accelerator": "none",
   "dataSources": [],
   "dockerImageVersionId": 30918,
   "isGpuEnabled": false,
   "isInternetEnabled": false,
   "language": "python",
   "sourceType": "notebook"
  },
  "kernelspec": {
   "display_name": "Python 3",
   "language": "python",
   "name": "python3"
  },
  "language_info": {
   "codemirror_mode": {
    "name": "ipython",
    "version": 3
   },
   "file_extension": ".py",
   "mimetype": "text/x-python",
   "name": "python",
   "nbconvert_exporter": "python",
   "pygments_lexer": "ipython3",
   "version": "3.10.12"
  },
  "papermill": {
   "default_parameters": {},
   "duration": 7.15623,
   "end_time": "2025-04-01T16:26:25.075279",
   "environment_variables": {},
   "exception": null,
   "input_path": "__notebook__.ipynb",
   "output_path": "__notebook__.ipynb",
   "parameters": {},
   "start_time": "2025-04-01T16:26:17.919049",
   "version": "2.6.0"
  }
 },
 "nbformat": 4,
 "nbformat_minor": 5
}
