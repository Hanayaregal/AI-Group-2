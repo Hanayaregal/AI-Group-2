{
 "cells": [
  {
   "cell_type": "code",
   "execution_count": 1,
   "id": "17f10ade",
   "metadata": {
    "_cell_guid": "b1076dfc-b9ad-4769-8c92-a6c4dae69d19",
    "_uuid": "8f2839f25d086af736a60e9eeb907d3b93b6e0e5",
    "execution": {
     "iopub.execute_input": "2025-04-01T16:28:26.668816Z",
     "iopub.status.busy": "2025-04-01T16:28:26.668408Z",
     "iopub.status.idle": "2025-04-01T16:28:27.695716Z",
     "shell.execute_reply": "2025-04-01T16:28:27.694427Z"
    },
    "papermill": {
     "duration": 1.034104,
     "end_time": "2025-04-01T16:28:27.698069",
     "exception": false,
     "start_time": "2025-04-01T16:28:26.663965",
     "status": "completed"
    },
    "tags": []
   },
   "outputs": [],
   "source": [
    "# This Python 3 environment comes with many helpful analytics libraries installed\n",
    "# It is defined by the kaggle/python Docker image: https://github.com/kaggle/docker-python\n",
    "# For example, here's several helpful packages to load\n",
    "\n",
    "import numpy as np # linear algebra\n",
    "import pandas as pd # data processing, CSV file I/O (e.g. pd.read_csv)\n",
    "\n",
    "# Input data files are available in the read-only \"../input/\" directory\n",
    "# For example, running this (by clicking run or pressing Shift+Enter) will list all files under the input directory\n",
    "\n",
    "import os\n",
    "for dirname, _, filenames in os.walk('/kaggle/input'):\n",
    "    for filename in filenames:\n",
    "        print(os.path.join(dirname, filename))\n",
    "\n",
    "# You can write up to 20GB to the current directory (/kaggle/working/) that gets preserved as output when you create a version using \"Save & Run All\" \n",
    "# You can also write temporary files to /kaggle/temp/, but they won't be saved outside of the current session"
   ]
  },
  {
   "cell_type": "code",
   "execution_count": 2,
   "id": "3097dc15",
   "metadata": {
    "execution": {
     "iopub.execute_input": "2025-04-01T16:28:27.705355Z",
     "iopub.status.busy": "2025-04-01T16:28:27.704693Z",
     "iopub.status.idle": "2025-04-01T16:28:29.678339Z",
     "shell.execute_reply": "2025-04-01T16:28:29.676664Z"
    },
    "papermill": {
     "duration": 1.979749,
     "end_time": "2025-04-01T16:28:29.680936",
     "exception": false,
     "start_time": "2025-04-01T16:28:27.701187",
     "status": "completed"
    },
    "tags": []
   },
   "outputs": [
    {
     "name": "stdout",
     "output_type": "stream",
     "text": [
      "Mean Squared Error: 29.44252070612646\n",
      "R-squared: 0.8895905473520258\n",
      "Model coefficients: [ 3.33005818 11.78364633]\n",
      "Model intercept: 75.71428571428571\n"
     ]
    }
   ],
   "source": [
    "# Import necessary libraries\n",
    "import pandas as pd\n",
    "import numpy as np\n",
    "from sklearn.model_selection import train_test_split\n",
    "from sklearn.linear_model import LinearRegression\n",
    "from sklearn.metrics import mean_squared_error, r2_score\n",
    "from sklearn.preprocessing import StandardScaler\n",
    "\n",
    "# Step 1: Load or create a dataset\n",
    "# Example dataset with features: 'study_hours', 'attendance_percentage' and target 'final_score'\n",
    "data = {\n",
    "    'study_hours': [5, 10, 3, 8, 7, 2, 6, 9, 4, 1],\n",
    "    'attendance_percentage': [80, 90, 75, 85, 88, 70, 82, 91, 78, 60],\n",
    "    'final_score': [75, 90, 65, 85, 88, 50, 80, 92, 70, 45]\n",
    "}\n",
    "\n",
    "df = pd.DataFrame(data)\n",
    "\n",
    "# Step 2: Preprocess the data\n",
    "# Features and target\n",
    "X = df[['study_hours', 'attendance_percentage']]  # Features\n",
    "y = df['final_score']  # Target\n",
    "\n",
    "# Split the data into training and testing sets\n",
    "X_train, X_test, y_train, y_test = train_test_split(X, y, test_size=0.3, random_state=42)\n",
    "\n",
    "# Optionally, scale the features\n",
    "scaler = StandardScaler()\n",
    "X_train_scaled = scaler.fit_transform(X_train)\n",
    "X_test_scaled = scaler.transform(X_test)\n",
    "\n",
    "# Step 3: Train the model (Linear Regression)\n",
    "model = LinearRegression()\n",
    "model.fit(X_train_scaled, y_train)\n",
    "\n",
    "# Step 4: Make predictions on the test set\n",
    "y_pred = model.predict(X_test_scaled)\n",
    "\n",
    "# Step 5: Evaluate the model\n",
    "mse = mean_squared_error(y_test, y_pred)\n",
    "r2 = r2_score(y_test, y_pred)\n",
    "\n",
    "print(f\"Mean Squared Error: {mse}\")\n",
    "print(f\"R-squared: {r2}\")\n",
    "\n",
    "# Optional: Print the coefficients and intercept of the model\n",
    "print(f\"Model coefficients: {model.coef_}\")\n",
    "print(f\"Model intercept: {model.intercept_}\")\n",
    "\n",
    "\n"
   ]
  },
  {
   "cell_type": "code",
   "execution_count": 3,
   "id": "d8847b5e",
   "metadata": {
    "execution": {
     "iopub.execute_input": "2025-04-01T16:28:29.687790Z",
     "iopub.status.busy": "2025-04-01T16:28:29.687252Z",
     "iopub.status.idle": "2025-04-01T16:28:30.035094Z",
     "shell.execute_reply": "2025-04-01T16:28:30.033533Z"
    },
    "papermill": {
     "duration": 0.353261,
     "end_time": "2025-04-01T16:28:30.037006",
     "exception": false,
     "start_time": "2025-04-01T16:28:29.683745",
     "status": "completed"
    },
    "tags": []
   },
   "outputs": [
    {
     "name": "stdout",
     "output_type": "stream",
     "text": [
      "Mean Squared Error (MSE): 29.44252070612646\n",
      "R-squared (R²): 0.8895905473520258\n"
     ]
    },
    {
     "data": {
      "image/png": "[encoded data removed]",
      "text/plain": [
       "<Figure size 640x480 with 1 Axes>"
      ]
     },
     "metadata": {},
     "output_type": "display_data"
    },
    {
     "name": "stdout",
     "output_type": "stream",
     "text": [
      "Model coefficients (study_hours, attendance_percentage): [ 3.33005818 11.78364633]\n",
      "Model intercept: 75.71428571428571\n"
     ]
    }
   ],
   "source": [
    "# Import necessary libraries\n",
    "import pandas as pd\n",
    "import numpy as np\n",
    "from sklearn.model_selection import train_test_split\n",
    "from sklearn.linear_model import LinearRegression\n",
    "from sklearn.metrics import mean_squared_error, r2_score\n",
    "from sklearn.preprocessing import StandardScaler\n",
    "import matplotlib.pyplot as plt\n",
    "\n",
    "# Step 1: Create a dataset\n",
    "# Example dataset with 'study_hours', 'attendance_percentage' and target 'final_score'\n",
    "data = {\n",
    "    'study_hours': [5, 10, 3, 8, 7, 2, 6, 9, 4, 1],\n",
    "    'attendance_percentage': [80, 90, 75, 85, 88, 70, 82, 91, 78, 60],\n",
    "    'final_score': [75, 90, 65, 85, 88, 50, 80, 92, 70, 45]\n",
    "}\n",
    "\n",
    "# Convert the data into a pandas DataFrame\n",
    "df = pd.DataFrame(data)\n",
    "\n",
    "# Step 2: Preprocess the data\n",
    "# Features (X) and target (y)\n",
    "X = df[['study_hours', 'attendance_percentage']]  # Features\n",
    "y = df['final_score']  # Target variable (final score)\n",
    "\n",
    "# Step 3: Split the dataset into training and testing sets (70% train, 30% test)\n",
    "X_train, X_test, y_train, y_test = train_test_split(X, y, test_size=0.3, random_state=42)\n",
    "\n",
    "# Step 4: Scale the data\n",
    "# Feature scaling (Standardization) is often useful for linear models\n",
    "scaler = StandardScaler()\n",
    "X_train_scaled = scaler.fit_transform(X_train)\n",
    "X_test_scaled = scaler.transform(X_test)\n",
    "\n",
    "# Step 5: Create a Linear Regression model\n",
    "model = LinearRegression()\n",
    "\n",
    "# Step 6: Train the model using the training data\n",
    "model.fit(X_train_scaled, y_train)\n",
    "\n",
    "# Step 7: Make predictions using the test set\n",
    "y_pred = model.predict(X_test_scaled)\n",
    "\n",
    "# Step 8: Evaluate the model\n",
    "mse = mean_squared_error(y_test, y_pred)\n",
    "r2 = r2_score(y_test, y_pred)\n",
    "\n",
    "print(f\"Mean Squared Error (MSE): {mse}\")\n",
    "print(f\"R-squared (R²): {r2}\")\n",
    "\n",
    "# Step 9: Visualizing the results\n",
    "# Scatter plot of actual vs predicted values\n",
    "plt.scatter(y_test, y_pred)\n",
    "plt.title('Actual vs Predicted Final Scores')\n",
    "plt.xlabel('Actual Final Score')\n",
    "plt.ylabel('Predicted Final Score')\n",
    "plt.show()\n",
    "\n",
    "# Optional: Print the coefficients and intercept of the model\n",
    "print(f\"Model coefficients (study_hours, attendance_percentage): {model.coef_}\")\n",
    "print(f\"Model intercept: {model.intercept_}\")\n"
   ]
  },
  {
   "cell_type": "code",
   "execution_count": null,
   "id": "7ec12bb1",
   "metadata": {
    "papermill": {
     "duration": 0.002519,
     "end_time": "2025-04-01T16:28:30.042561",
     "exception": false,
     "start_time": "2025-04-01T16:28:30.040042",
     "status": "completed"
    },
    "tags": []
   },
   "outputs": [],
   "source": []
  },
  {
   "cell_type": "code",
   "execution_count": null,
   "id": "fe18a45f",
   "metadata": {
    "papermill": {
     "duration": 0.00255,
     "end_time": "2025-04-01T16:28:30.047726",
     "exception": false,
     "start_time": "2025-04-01T16:28:30.045176",
     "status": "completed"
    },
    "tags": []
   },
   "outputs": [],
   "source": []
  }
 ],
 "metadata": {
  "kaggle": {
   "accelerator": "none",
   "dataSources": [],
   "dockerImageVersionId": 30918,
   "isGpuEnabled": false,
   "isInternetEnabled": false,
   "language": "python",
   "sourceType": "notebook"
  },
  "kernelspec": {
   "display_name": "Python 3",
   "language": "python",
   "name": "python3"
  },
  "language_info": {
   "codemirror_mode": {
    "name": "ipython",
    "version": 3
   },
   "file_extension": ".py",
   "mimetype": "text/x-python",
   "name": "python",
   "nbconvert_exporter": "python",
   "pygments_lexer": "ipython3",
   "version": "3.10.12"
  },
  "papermill": {
   "default_parameters": {},
   "duration": 8.018313,
   "end_time": "2025-04-01T16:28:31.076427",
   "environment_variables": {},
   "exception": null,
   "input_path": "__notebook__.ipynb",
   "output_path": "__notebook__.ipynb",
   "parameters": {},
   "start_time": "2025-04-01T16:28:23.058114",
   "version": "2.6.0"
  }
 },
 "nbformat": 4,
 "nbformat_minor": 5
}
