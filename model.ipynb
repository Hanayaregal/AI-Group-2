{
 "cells": [
  {
   "cell_type": "code",
   "execution_count": null,
   "metadata": {
    "vscode": {
     "languageId": "plaintext"
    }
   },
   "outputs": [],
   "source": [
    "import streamlit as st\n",
    "import pandas as pd\n",
    "import matplotlib.pyplot as plt\n",
    "from sklearn.model_selection import train_test_split\n",
    "from sklearn.preprocessing import LabelEncoder\n",
    "from sklearn.ensemble import RandomForestClassifier\n",
    "from sklearn.metrics import accuracy_score, classification_report\n",
    "\n",
    "# Load the dataset\n",
    "def load_data():\n",
    "    file_path = \"Students _Performance _Prediction.csv\"\n",
    "    df = pd.read_csv(file_path)\n",
    "    return df\n",
    "\n",
    "df = load_data()\n",
    "\n",
    "# Preprocessing\n",
    "label_encoders = {}\n",
    "categorical_cols = [\"Student_Age\", \"Sex\", \"High_School_Type\", \"Scholarship\", \"Additional_Work\", \n",
    "                    \"Sports_activity\", \"Transportation\", \"Attendance\", \"Reading\", \"Notes\", \n",
    "                    \"Listening_in_Class\", \"Project_work\", \"Grade\"]\n",
    "\n",
    "for col in categorical_cols:\n",
    "    le = LabelEncoder()\n",
    "    df[col] = le.fit_transform(df[col])\n",
    "    label_encoders[col] = le\n",
    "\n",
    "# Split data into train and test\n",
    "X = df.drop(columns=[\"Grade\", \"Student_ID\"])\n",
    "y = df[\"Grade\"]\n",
    "X_train, X_test, y_train, y_test = train_test_split(X, y, test_size=0.2, random_state=42)\n",
    "\n",
    "# Train a model\n",
    "model = RandomForestClassifier(n_estimators=100, random_state=42)\n",
    "model.fit(X_train, y_train)\n",
    "\n",
    "y_pred = model.predict(X_test)\n",
    "accuracy = accuracy_score(y_test, y_pred)\n",
    "report = classification_report(y_test, y_pred)\n",
    "\n",
    "# Streamlit UI\n",
    "st.title(\"Student Performance Analysis\")\n",
    "\n",
    "# Display dataset\n",
    "if st.checkbox(\"Show Raw Data\"):\n",
    "    st.write(df)\n",
    "\n",
    "# Visualization: Grade Distribution\n",
    "st.subheader(\"Grade Distribution\")\n",
    "grade_counts = df[\"Grade\"].value_counts()\n",
    "fig, ax = plt.subplots()\n",
    "ax.bar(grade_counts.index, grade_counts.values, color='skyblue')\n",
    "ax.set_xlabel(\"Grade\")\n",
    "ax.set_ylabel(\"Count\")\n",
    "st.pyplot(fig)\n",
    "\n",
    "# Weekly Study Hours vs. Grade\n",
    "st.subheader(\"Weekly Study Hours vs. Grade\")\n",
    "avg_study_hours = df.groupby(\"Grade\")[\"Weekly_Study_Hours\"].mean()\n",
    "fig, ax = plt.subplots()\n",
    "ax.bar(avg_study_hours.index, avg_study_hours.values, color='lightgreen')\n",
    "ax.set_xlabel(\"Grade\")\n",
    "ax.set_ylabel(\"Avg Weekly Study Hours\")\n",
    "st.pyplot(fig)\n",
    "\n",
    "# Filter by Student Age\n",
    "target_age = st.selectbox(\"Select Age Group\", df[\"Student_Age\"].unique())\n",
    "st.write(df[df[\"Student_Age\"] == target_age])\n",
    "\n",
    "# Model Evaluation\n",
    "st.subheader(\"Model Accuracy\")\n",
    "st.write(f\"Accuracy: {accuracy:.2f}\")\n",
    "st.text(\"Classification Report:\")\n",
    "st.text(report)\n",
    "\n",
    "st.write(\"Analysis completed.\")"
   ]
  }
 ],
 "metadata": {
  "kernelspec": {
   "display_name": "Python 3",
   "language": "python",
   "name": "python3"
  },
  "language_info": {
   "codemirror_mode": {
    "name": "ipython",
    "version": 3
   },
   "file_extension": ".py",
   "mimetype": "text/x-python",
   "name": "python",
   "nbconvert_exporter": "python",
   "pygments_lexer": "ipython3",
   "version": "3.10.11"
  }
 },
 "nbformat": 4,
 "nbformat_minor": 2
}
# File Upload
uploaded_file = st.file_uploader("Upload your dataset", type="csv")
if uploaded_file is not None:
    df = load_data(uploaded_file)
