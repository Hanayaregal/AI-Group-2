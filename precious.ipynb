{
 "cells": [
  {
   "cell_type": "code",
   "execution_count": 1,
   "id": "55981295-ad11-4fba-96b7-ef1a4e31126a",
   "metadata": {},
   "outputs": [],
   "source": [
    "import pandas as pd\n",
    "import numpy as np\n",
    "import matplotlib.pyplot as plt\n",
    "import seaborn as sns\n",
    "from sklearn.model_selection import train_test_split\n",
    "from sklearn.preprocessing import LabelEncoder, StandardScaler\n",
    "from sklearn.metrics import classification_report, confusion_matrix, accuracy_score\n",
    "from sklearn.linear_model import LogisticRegression\n",
    "from sklearn.ensemble import RandomForestClassifier"
   ]
  },
  {
   "cell_type": "code",
   "execution_count": 5,
   "id": "c879c8e0-0ed5-4687-b422-33ff0329761b",
   "metadata": {},
   "outputs": [],
   "source": [
    "file_path = 'Students _Performance _Prediction.csv'\n",
    "df = pd.read_csv(file_path)"
   ]
  },
  {
   "cell_type": "code",
   "execution_count": 7,
   "id": "c30d33f5-68f7-4be5-a037-c7b277fcf8b5",
   "metadata": {},
   "outputs": [
    {
     "name": "stdout",
     "output_type": "stream",
     "text": [
      "First 5 rows:\n",
      "  Student_ID Student_Age     Sex High_School_Type Scholarship Additional_Work  \\\n",
      "0   STUDENT1       19-22    Male            Other         50%             Yes   \n",
      "1   STUDENT2       19-22    Male            Other         50%             Yes   \n",
      "2   STUDENT3       19-22    Male            State         50%              No   \n",
      "3   STUDENT4          18  Female          Private         50%             Yes   \n",
      "4   STUDENT5       19-22    Male          Private         50%              No   \n",
      "\n",
      "  Sports_activity Transportation  Weekly_Study_Hours Attendance Reading Notes  \\\n",
      "0              No        Private                   0     Always     Yes   Yes   \n",
      "1              No        Private                   0     Always     Yes    No   \n",
      "2              No        Private                   2      Never      No    No   \n",
      "3              No            Bus                   2     Always      No   Yes   \n",
      "4              No            Bus                  12     Always     Yes    No   \n",
      "\n",
      "  Listening_in_Class Project_work Grade  \n",
      "0                 No           No    AA  \n",
      "1                Yes          Yes    AA  \n",
      "2                 No          Yes    AA  \n",
      "3                 No           No    AA  \n",
      "4                Yes          Yes    AA  \n",
      "\n",
      "Dataset Info:\n",
      "<class 'pandas.core.frame.DataFrame'>\n",
      "RangeIndex: 145 entries, 0 to 144\n",
      "Data columns (total 15 columns):\n",
      " #   Column              Non-Null Count  Dtype \n",
      "---  ------              --------------  ----- \n",
      " 0   Student_ID          145 non-null    object\n",
      " 1   Student_Age         145 non-null    object\n",
      " 2   Sex                 145 non-null    object\n",
      " 3   High_School_Type    145 non-null    object\n",
      " 4   Scholarship         144 non-null    object\n",
      " 5   Additional_Work     145 non-null    object\n",
      " 6   Sports_activity     145 non-null    object\n",
      " 7   Transportation      145 non-null    object\n",
      " 8   Weekly_Study_Hours  145 non-null    int64 \n",
      " 9   Attendance          145 non-null    object\n",
      " 10  Reading             145 non-null    object\n",
      " 11  Notes               145 non-null    object\n",
      " 12  Listening_in_Class  145 non-null    object\n",
      " 13  Project_work        145 non-null    object\n",
      " 14  Grade               145 non-null    object\n",
      "dtypes: int64(1), object(14)\n",
      "memory usage: 17.1+ KB\n",
      "None\n",
      "\n",
      "Summary Statistics:\n",
      "       Weekly_Study_Hours\n",
      "count          145.000000\n",
      "mean             2.331034\n",
      "std              4.249273\n",
      "min              0.000000\n",
      "25%              0.000000\n",
      "50%              0.000000\n",
      "75%              2.000000\n",
      "max             12.000000\n"
     ]
    }
   ],
   "source": [
    "print(\"First 5 rows:\")\n",
    "print(df.head())\n",
    "print(\"\\nDataset Info:\")\n",
    "print(df.info())\n",
    "print(\"\\nSummary Statistics:\")\n",
    "print(df.describe())"
   ]
  },
  {
   "cell_type": "code",
   "execution_count": 9,
   "id": "737da13a-0319-4b3d-bc02-7bdb77cf983f",
   "metadata": {},
   "outputs": [
    {
     "name": "stdout",
     "output_type": "stream",
     "text": [
      "\n",
      "Missing Values:\n",
      "Student_ID            0\n",
      "Student_Age           0\n",
      "Sex                   0\n",
      "High_School_Type      0\n",
      "Scholarship           1\n",
      "Additional_Work       0\n",
      "Sports_activity       0\n",
      "Transportation        0\n",
      "Weekly_Study_Hours    0\n",
      "Attendance            0\n",
      "Reading               0\n",
      "Notes                 0\n",
      "Listening_in_Class    0\n",
      "Project_work          0\n",
      "Grade                 0\n",
      "dtype: int64\n"
     ]
    }
   ],
   "source": [
    "print(\"\\nMissing Values:\")\n",
    "print(df.isnull().sum())"
   ]
  },
  {
   "cell_type": "code",
   "execution_count": 11,
   "id": "444aeeb8-9657-4a61-b013-eb6c2990cfd1",
   "metadata": {},
   "outputs": [],
   "source": [
    "label_encoders = {}\n",
    "for column in df.select_dtypes(include=['object']).columns:\n",
    "    le = LabelEncoder()\n",
    "    df[column] = le.fit_transform(df[column])\n",
    "    label_encoders[column] = le"
   ]
  },
  {
   "cell_type": "code",
   "execution_count": 15,
   "id": "72df8b18-b960-45d5-8aaf-ce237e354640",
   "metadata": {},
   "outputs": [],
   "source": [
    "X = df.drop('Sex', axis=1)  # Replace 'Performance' with your target column name\n",
    "y = df['Sex']"
   ]
  },
  {
   "cell_type": "code",
   "execution_count": 17,
   "id": "d9679872-8094-4509-891b-c9f2e3200cae",
   "metadata": {},
   "outputs": [],
   "source": [
    "scaler = StandardScaler()\n",
    "X_scaled = scaler.fit_transform(X)"
   ]
  },
  {
   "cell_type": "code",
   "execution_count": 19,
   "id": "863a5615-126a-426e-ac65-4f3ad361d239",
   "metadata": {},
   "outputs": [],
   "source": [
    "X_train, X_test, y_train, y_test = train_test_split(X_scaled, y, test_size=0.2, random_state=42)"
   ]
  },
  {
   "cell_type": "code",
   "execution_count": 21,
   "id": "7f039ffa-c93a-4a86-ac00-f30c80ba50b8",
   "metadata": {},
   "outputs": [],
   "source": [
    "lr = LogisticRegression()\n",
    "lr.fit(X_train, y_train)\n",
    "y_pred_lr = lr.predict(X_test)"
   ]
  },
  {
   "cell_type": "code",
   "execution_count": 23,
   "id": "79bc92ef-a73b-49ef-92ed-310c7ead3f6e",
   "metadata": {},
   "outputs": [],
   "source": [
    "rf = RandomForestClassifier(n_estimators=100, random_state=42)\n",
    "rf.fit(X_train, y_train)\n",
    "y_pred_rf = rf.predict(X_test)"
   ]
  },
  {
   "cell_type": "code",
   "execution_count": 25,
   "id": "b6056278-8a8d-4673-aca0-62fe414692a9",
   "metadata": {},
   "outputs": [
    {
     "name": "stdout",
     "output_type": "stream",
     "text": [
      "\n",
      "--- Logistic Regression ---\n",
      "Accuracy: 0.5862068965517241\n",
      "[[ 6  9]\n",
      " [ 3 11]]\n",
      "              precision    recall  f1-score   support\n",
      "\n",
      "           0       0.67      0.40      0.50        15\n",
      "           1       0.55      0.79      0.65        14\n",
      "\n",
      "    accuracy                           0.59        29\n",
      "   macro avg       0.61      0.59      0.57        29\n",
      "weighted avg       0.61      0.59      0.57        29\n",
      "\n"
     ]
    }
   ],
   "source": [
    "print(\"\\n--- Logistic Regression ---\")\n",
    "print(\"Accuracy:\", accuracy_score(y_test, y_pred_lr))\n",
    "print(confusion_matrix(y_test, y_pred_lr))\n",
    "print(classification_report(y_test, y_pred_lr))"
   ]
  },
  {
   "cell_type": "code",
   "execution_count": 27,
   "id": "3be455a2-76c2-46d3-90b7-275afc8eabd8",
   "metadata": {},
   "outputs": [
    {
     "name": "stdout",
     "output_type": "stream",
     "text": [
      "\n",
      "--- Random Forest ---\n",
      "Accuracy: 0.7586206896551724\n",
      "[[10  5]\n",
      " [ 2 12]]\n",
      "              precision    recall  f1-score   support\n",
      "\n",
      "           0       0.83      0.67      0.74        15\n",
      "           1       0.71      0.86      0.77        14\n",
      "\n",
      "    accuracy                           0.76        29\n",
      "   macro avg       0.77      0.76      0.76        29\n",
      "weighted avg       0.77      0.76      0.76        29\n",
      "\n"
     ]
    }
   ],
   "source": [
    "print(\"\\n--- Random Forest ---\")\n",
    "print(\"Accuracy:\", accuracy_score(y_test, y_pred_rf))\n",
    "print(confusion_matrix(y_test, y_pred_rf))\n",
    "print(classification_report(y_test, y_pred_rf))"
   ]
  },
  {
   "cell_type": "code",
   "execution_count": 31,
   "id": "74d122dc-505d-4127-9ea7-99f223337103",
   "metadata": {},
   "outputs": [
    {
     "data": {
      "image/png": "[encoded data removed]",
      "text/plain": [
       "<Figure size 1000x600 with 1 Axes>"
      ]
     },
     "metadata": {},
     "output_type": "display_data"
    }
   ],
   "source": [
    "importances = rf.feature_importances_\n",
    "features = df.drop('Sex', axis=1).columns\n",
    "plt.figure(figsize=(10, 6))\n",
    "sns.barplot(x=importances, y=features)\n",
    "plt.title('Feature Importance - Random Forest')\n",
    "plt.show()"
   ]
  },
  {
   "cell_type": "code",
   "execution_count": null,
   "id": "792bff89-1d83-43c9-bc29-2fef19a5ae19",
   "metadata": {},
   "outputs": [],
   "source": []
  }
 ],
 "metadata": {
  "kernelspec": {
   "display_name": "Python 3 (ipykernel)",
   "language": "python",
   "name": "python3"
  },
  "language_info": {
   "codemirror_mode": {
    "name": "ipython",
    "version": 3
   },
   "file_extension": ".py",
   "mimetype": "text/x-python",
   "name": "python",
   "nbconvert_exporter": "python",
   "pygments_lexer": "ipython3",
   "version": "3.12.4"
  }
 },
 "nbformat": 4,
 "nbformat_minor": 5
}
