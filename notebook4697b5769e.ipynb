{
 "cells": [
  {
   "cell_type": "code",
   "execution_count": 1,
   "id": "2a19212e",
   "metadata": {
    "_cell_guid": "b1076dfc-b9ad-4769-8c92-a6c4dae69d19",
    "_uuid": "8f2839f25d086af736a60e9eeb907d3b93b6e0e5",
    "execution": {
     "iopub.execute_input": "2025-05-07T17:15:27.996153Z",
     "iopub.status.busy": "2025-05-07T17:15:27.995813Z",
     "iopub.status.idle": "2025-05-07T17:15:30.108402Z",
     "shell.execute_reply": "2025-05-07T17:15:30.107118Z"
    },
    "papermill": {
     "duration": 2.118293,
     "end_time": "2025-05-07T17:15:30.110149",
     "exception": false,
     "start_time": "2025-05-07T17:15:27.991856",
     "status": "completed"
    },
    "tags": []
   },
   "outputs": [
    {
     "name": "stdout",
     "output_type": "stream",
     "text": [
      "/kaggle/input/student111/Students Performance Prediction.csv\n"
     ]
    }
   ],
   "source": [
    "# This Python 3 environment comes with many helpful analytics libraries installed\n",
    "# It is defined by the kaggle/python Docker image: https://github.com/kaggle/docker-python\n",
    "# For example, here's several helpful packages to load\n",
    "\n",
    "import numpy as np # linear algebra\n",
    "import pandas as pd # data processing, CSV file I/O (e.g. pd.read_csv)\n",
    "\n",
    "# Input data files are available in the read-only \"../input/\" directory\n",
    "# For example, running this (by clicking run or pressing Shift+Enter) will list all files under the input directory\n",
    "\n",
    "import os\n",
    "for dirname, _, filenames in os.walk('/kaggle/input'):\n",
    "    for filename in filenames:\n",
    "        print(os.path.join(dirname, filename))\n",
    "\n",
    "# You can write up to 20GB to the current directory (/kaggle/working/) that gets preserved as output when you create a version using \"Save & Run All\" \n",
    "# You can also write temporary files to /kaggle/temp/, but they won't be saved outside of the current session"
   ]
  },
  {
   "cell_type": "code",
   "execution_count": null,
   "id": "a97c0365",
   "metadata": {
    "papermill": {
     "duration": 0.00238,
     "end_time": "2025-05-07T17:15:30.115841",
     "exception": false,
     "start_time": "2025-05-07T17:15:30.113461",
     "status": "completed"
    },
    "tags": []
   },
   "outputs": [],
   "source": []
  },
  {
   "cell_type": "code",
   "execution_count": null,
   "id": "cb2ee0aa",
   "metadata": {
    "papermill": {
     "duration": 0.002412,
     "end_time": "2025-05-07T17:15:30.120435",
     "exception": false,
     "start_time": "2025-05-07T17:15:30.118023",
     "status": "completed"
    },
    "tags": []
   },
   "outputs": [],
   "source": []
  },
  {
   "cell_type": "code",
   "execution_count": 2,
   "id": "b8b927be",
   "metadata": {
    "execution": {
     "iopub.execute_input": "2025-05-07T17:15:30.126780Z",
     "iopub.status.busy": "2025-05-07T17:15:30.126358Z",
     "iopub.status.idle": "2025-05-07T17:15:32.576677Z",
     "shell.execute_reply": "2025-05-07T17:15:32.575353Z"
    },
    "papermill": {
     "duration": 2.456172,
     "end_time": "2025-05-07T17:15:32.578470",
     "exception": false,
     "start_time": "2025-05-07T17:15:30.122298",
     "status": "completed"
    },
    "tags": []
   },
   "outputs": [
    {
     "name": "stdout",
     "output_type": "stream",
     "text": [
      "Model Accuracy: 0.24\n",
      "Predicted Grade for the input example: AA\n"
     ]
    }
   ],
   "source": [
    "# Importing necessary libraries\n",
    "import pandas as pd\n",
    "from sklearn.model_selection import train_test_split\n",
    "from sklearn.compose import ColumnTransformer\n",
    "from sklearn.pipeline import Pipeline\n",
    "from sklearn.preprocessing import StandardScaler, OneHotEncoder\n",
    "from sklearn.ensemble import RandomForestClassifier\n",
    "from sklearn.impute import SimpleImputer\n",
    "from sklearn.metrics import accuracy_score\n",
    "import pickle\n",
    "\n",
    "# Load the dataset\n",
    "df = pd.read_csv('/kaggle/input/student111/Students Performance Prediction.csv')\n",
    "\n",
    "# Data Cleaning and Preprocessing\n",
    "df['Notes'] = df['Notes'].replace('6', 'No')\n",
    "df['Scholarship'] = df['Scholarship'].str.rstrip('%').replace('None', '0').astype(float) / 100\n",
    "df['Student_Age'] = df['Student_Age'].apply(lambda x: '18' if x == '18' else '19-22' if x == '19-22' else '23-27')\n",
    "\n",
    "# Define features and target\n",
    "X = df.drop(['Grade', 'Student_ID'], axis=1)\n",
    "y = df['Grade']\n",
    "\n",
    "# Split data\n",
    "X_train, X_test, y_train, y_test = train_test_split(X, y, test_size=0.2, random_state=42)\n",
    "\n",
    "# Define transformers\n",
    "numeric_features = ['Scholarship', 'Weekly_Study_Hours']\n",
    "numeric_transformer = Pipeline(steps=[ \n",
    "    ('imputer', SimpleImputer(strategy='median')),\n",
    "    ('scaler', StandardScaler()) \n",
    "])\n",
    "\n",
    "categorical_features = ['Student_Age', 'Sex', 'High_School_Type', 'Additional_Work', \n",
    "                        'Sports_activity', 'Transportation', 'Attendance', 'Reading', \n",
    "                        'Notes', 'Listening_in_Class', 'Project_work']\n",
    "categorical_transformer = Pipeline(steps=[ \n",
    "    ('imputer', SimpleImputer(strategy='most_frequent')), \n",
    "    ('onehot', OneHotEncoder(handle_unknown='ignore')) \n",
    "])\n",
    "\n",
    "# Preprocessing pipeline\n",
    "preprocessor = ColumnTransformer(\n",
    "    transformers=[\n",
    "        ('num', numeric_transformer, numeric_features),\n",
    "        ('cat', categorical_transformer, categorical_features)\n",
    "    ])\n",
    "\n",
    "# Full pipeline with classifier\n",
    "model_pipeline = Pipeline(steps=[ \n",
    "    ('preprocessor', preprocessor), \n",
    "    ('classifier', RandomForestClassifier(n_estimators=100, random_state=42))\n",
    "])\n",
    "\n",
    "# Train model\n",
    "model_pipeline.fit(X_train, y_train)\n",
    "\n",
    "# Evaluate\n",
    "y_pred = model_pipeline.predict(X_test)\n",
    "print(f\"Model Accuracy: {accuracy_score(y_test, y_pred):.2f}\")\n",
    "\n",
    "# Save model\n",
    "with open('student_grade_predictor.pkl', 'wb') as f:\n",
    "    pickle.dump(model_pipeline, f)\n",
    "\n",
    "# Function to predict new data\n",
    "def predict_new_data(input_data):\n",
    "    \"\"\"\n",
    "    Predict the grade for new input data using the trained model.\n",
    "    \"\"\"\n",
    "    input_df = pd.DataFrame([input_data])\n",
    "    \n",
    "    # Ensure input scholarship is in the right format\n",
    "    if input_df['Scholarship'].max() > 1:\n",
    "        input_df['Scholarship'] = input_df['Scholarship'] / 100.0\n",
    "    \n",
    "    # Load model\n",
    "    model = pickle.load(open('student_grade_predictor.pkl', 'rb'))\n",
    "    \n",
    "    # Predict\n",
    "    return model.predict(input_df)\n",
    "\n",
    "# Example input\n",
    "input_example = {\n",
    "    'Student_Age': '19-22',\n",
    "    'Sex': 'Female',\n",
    "    'High_School_Type': 'Private',\n",
    "    'Scholarship': 75.0,  # percentage will be converted\n",
    "    'Additional_Work': 'Yes',\n",
    "    'Sports_activity': 'No',\n",
    "    'Transportation': 'Private',\n",
    "    'Weekly_Study_Hours': 20,\n",
    "    'Attendance': 'Always',\n",
    "    'Reading': 'Yes',\n",
    "    'Notes': 'Yes',\n",
    "    'Listening_in_Class': 'Yes',\n",
    "    'Project_work': 'Yes'\n",
    "}\n",
    "\n",
    "# Predict grade\n",
    "prediction = predict_new_data(input_example)\n",
    "print(f\"Predicted Grade for the input example: {prediction[0]}\")\n"
   ]
  }
 ],
 "metadata": {
  "kaggle": {
   "accelerator": "none",
   "dataSources": [
    {
     "datasetId": 7108763,
     "sourceId": 11358521,
     "sourceType": "datasetVersion"
    }
   ],
   "dockerImageVersionId": 31012,
   "isGpuEnabled": false,
   "isInternetEnabled": false,
   "language": "python",
   "sourceType": "notebook"
  },
  "kernelspec": {
   "display_name": "Python 3",
   "language": "python",
   "name": "python3"
  },
  "language_info": {
   "codemirror_mode": {
    "name": "ipython",
    "version": 3
   },
   "file_extension": ".py",
   "mimetype": "text/x-python",
   "name": "python",
   "nbconvert_exporter": "python",
   "pygments_lexer": "ipython3",
   "version": "3.11.11"
  },
  "papermill": {
   "default_parameters": {},
   "duration": 10.513652,
   "end_time": "2025-05-07T17:15:33.402495",
   "environment_variables": {},
   "exception": null,
   "input_path": "__notebook__.ipynb",
   "output_path": "__notebook__.ipynb",
   "parameters": {},
   "start_time": "2025-05-07T17:15:22.888843",
   "version": "2.6.0"
  }
 },
 "nbformat": 4,
 "nbformat_minor": 5
}
