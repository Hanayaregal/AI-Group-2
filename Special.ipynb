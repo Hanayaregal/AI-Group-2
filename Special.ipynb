{
 "cells": [
  {
   "cell_type": "code",
   "execution_count": 1,
   "id": "86391fed-d4c4-4006-acee-f0ce52ad79fb",
   "metadata": {},
   "outputs": [],
   "source": [
    "import pandas as pd\n",
    "from sklearn.model_selection import train_test_split\n",
    "from sklearn.preprocessing import LabelEncoder\n",
    "from sklearn.tree import DecisionTreeClassifier\n",
    "from sklearn.ensemble import RandomForestClassifier\n",
    "from sklearn.metrics import classification_report, accuracy_score"
   ]
  },
  {
   "cell_type": "code",
   "execution_count": 3,
   "id": "dca705f5-67d8-4a31-9670-2f74f204fb0b",
   "metadata": {},
   "outputs": [],
   "source": [
    "df = pd.read_csv(\"Students _Performance _Prediction.csv\")"
   ]
  },
  {
   "cell_type": "code",
   "execution_count": 5,
   "id": "cb52ba4f-891f-4cfd-808c-6ebadce63b70",
   "metadata": {},
   "outputs": [],
   "source": [
    "df = df.drop(\"Student_ID\", axis=1)"
   ]
  },
  {
   "cell_type": "code",
   "execution_count": 7,
   "id": "1ba2a812-2712-4f52-adc5-ef0fabcd4824",
   "metadata": {},
   "outputs": [],
   "source": [
    "label_encoders = {}\n",
    "for col in df.columns:\n",
    "    if df[col].dtype == 'object':\n",
    "        le = LabelEncoder()\n",
    "        df[col] = le.fit_transform(df[col])\n",
    "        label_encoders[col] = le"
   ]
  },
  {
   "cell_type": "code",
   "execution_count": 9,
   "id": "970226b1-59f4-4a1c-965e-57544efe5311",
   "metadata": {},
   "outputs": [],
   "source": [
    "X = df.drop(\"Grade\", axis=1)\n",
    "y = df[\"Grade\"]"
   ]
  },
  {
   "cell_type": "code",
   "execution_count": 11,
   "id": "523e2830-6f9d-4f74-9cc9-235c5cfa7449",
   "metadata": {},
   "outputs": [],
   "source": [
    "X_train, X_test, y_train, y_test = train_test_split(X, y, test_size=0.2, random_state=42)"
   ]
  },
  {
   "cell_type": "code",
   "execution_count": 13,
   "id": "90ec7f23-dbc8-41e0-b601-87258509bd0a",
   "metadata": {},
   "outputs": [],
   "source": [
    "dt_model = DecisionTreeClassifier(random_state=42)\n",
    "dt_model.fit(X_train, y_train)\n",
    "dt_preds = dt_model.predict(X_test)"
   ]
  },
  {
   "cell_type": "code",
   "execution_count": 15,
   "id": "fe193367-4b69-47b1-816a-a9b3aff7796b",
   "metadata": {},
   "outputs": [],
   "source": [
    "rf_model = RandomForestClassifier(random_state=42)\n",
    "rf_model.fit(X_train, y_train)\n",
    "rf_preds = rf_model.predict(X_test)"
   ]
  },
  {
   "cell_type": "code",
   "execution_count": 19,
   "id": "9ac4a62c-418f-4df0-8e8c-17cc895472ce",
   "metadata": {},
   "outputs": [],
   "source": [
    "from sklearn.metrics import classification_report, accuracy_score"
   ]
  },
  {
   "cell_type": "code",
   "execution_count": 21,
   "id": "3b674b17-8155-444a-9908-61597a611520",
   "metadata": {},
   "outputs": [
    {
     "name": "stdout",
     "output_type": "stream",
     "text": [
      "Decision Tree Accuracy: 0.20689655172413793\n",
      "Random Forest Accuracy: 0.2413793103448276\n"
     ]
    }
   ],
   "source": [
    "print(\"Decision Tree Accuracy:\", accuracy_score(y_test, dt_preds))\n",
    "print(\"Random Forest Accuracy:\", accuracy_score(y_test, rf_preds))"
   ]
  },
  {
   "cell_type": "code",
   "execution_count": 23,
   "id": "a6d3ee0f-9f28-47f8-8e25-35143536a944",
   "metadata": {},
   "outputs": [
    {
     "name": "stdout",
     "output_type": "stream",
     "text": [
      "\n",
      "Decision Tree Report:\n",
      "               precision    recall  f1-score   support\n",
      "\n",
      "           0       0.00      0.00      0.00         3\n",
      "           1       0.33      0.25      0.29         4\n",
      "           2       0.40      0.33      0.36         6\n",
      "           3       0.00      0.00      0.00         3\n",
      "           4       0.00      0.00      0.00         3\n",
      "           5       0.25      0.25      0.25         4\n",
      "           6       0.33      0.50      0.40         2\n",
      "           7       0.50      0.25      0.33         4\n",
      "\n",
      "    accuracy                           0.21        29\n",
      "   macro avg       0.23      0.20      0.20        29\n",
      "weighted avg       0.26      0.21      0.22        29\n",
      "\n",
      "\n",
      "Random Forest Report:\n",
      "               precision    recall  f1-score   support\n",
      "\n",
      "           0       0.14      0.67      0.24         3\n",
      "           1       0.17      0.25      0.20         4\n",
      "           2       0.67      0.33      0.44         6\n",
      "           3       0.00      0.00      0.00         3\n",
      "           4       0.00      0.00      0.00         3\n",
      "           5       0.50      0.25      0.33         4\n",
      "           6       1.00      0.50      0.67         2\n",
      "           7       0.00      0.00      0.00         4\n",
      "\n",
      "    accuracy                           0.24        29\n",
      "   macro avg       0.31      0.25      0.23        29\n",
      "weighted avg       0.31      0.24      0.24        29\n",
      "\n"
     ]
    }
   ],
   "source": [
    "print(\"\\nDecision Tree Report:\\n\", classification_report(y_test, dt_preds, zero_division=0))\n",
    "print(\"\\nRandom Forest Report:\\n\", classification_report(y_test, rf_preds, zero_division=0))"
   ]
  },
  {
   "cell_type": "code",
   "execution_count": 37,
   "id": "d750cce4-77cb-4b40-97f1-c2ccb8ee0028",
   "metadata": {},
   "outputs": [],
   "source": [
    "from sklearn.neighbors import KNeighborsClassifier\n",
    "from sklearn.svm import SVC\n",
    "from sklearn.metrics import classification_report, accuracy_score"
   ]
  },
  {
   "cell_type": "code",
   "execution_count": 39,
   "id": "683b0dfd-cedd-41a9-9496-12a3926ee9d1",
   "metadata": {},
   "outputs": [],
   "source": [
    "knn_model = KNeighborsClassifier(n_neighbors=5)\n",
    "knn_model.fit(X_train, y_train)\n",
    "knn_preds = knn_model.predict(X_test)"
   ]
  },
  {
   "cell_type": "code",
   "execution_count": 41,
   "id": "8479625b-012a-4c7e-9148-c7774938cfc5",
   "metadata": {},
   "outputs": [
    {
     "name": "stdout",
     "output_type": "stream",
     "text": [
      "K-Nearest Neighbors (KNN) Accuracy: 0.06896551724137931\n",
      "KNN Classification Report:\n",
      "               precision    recall  f1-score   support\n",
      "\n",
      "           0       0.00      0.00      0.00         3\n",
      "           1       0.12      0.25      0.17         4\n",
      "           2       0.33      0.17      0.22         6\n",
      "           3       0.00      0.00      0.00         3\n",
      "           4       0.00      0.00      0.00         3\n",
      "           5       0.00      0.00      0.00         4\n",
      "           6       0.00      0.00      0.00         2\n",
      "           7       0.00      0.00      0.00         4\n",
      "\n",
      "    accuracy                           0.07        29\n",
      "   macro avg       0.06      0.05      0.05        29\n",
      "weighted avg       0.09      0.07      0.07        29\n",
      "\n"
     ]
    }
   ],
   "source": [
    "print(\"K-Nearest Neighbors (KNN) Accuracy:\", accuracy_score(y_test, knn_preds))\n",
    "print(\"KNN Classification Report:\\n\", classification_report(y_test, knn_preds, zero_division=0))"
   ]
  },
  {
   "cell_type": "code",
   "execution_count": 43,
   "id": "0bafece5-5568-42a5-9295-2473e0bd072a",
   "metadata": {},
   "outputs": [],
   "source": [
    "svm_model = SVC()\n",
    "svm_model.fit(X_train, y_train)\n",
    "svm_preds = svm_model.predict(X_test)"
   ]
  },
  {
   "cell_type": "code",
   "execution_count": 45,
   "id": "7b4a2d16-eaef-4692-971a-e7c515326104",
   "metadata": {},
   "outputs": [
    {
     "name": "stdout",
     "output_type": "stream",
     "text": [
      "\n",
      "Support Vector Machine (SVM) Accuracy: 0.10344827586206896\n",
      "SVM Classification Report:\n",
      "               precision    recall  f1-score   support\n",
      "\n",
      "           0       0.11      1.00      0.19         3\n",
      "           1       0.00      0.00      0.00         4\n",
      "           2       0.00      0.00      0.00         6\n",
      "           3       0.00      0.00      0.00         3\n",
      "           4       0.00      0.00      0.00         3\n",
      "           5       0.00      0.00      0.00         4\n",
      "           6       0.00      0.00      0.00         2\n",
      "           7       0.00      0.00      0.00         4\n",
      "\n",
      "    accuracy                           0.10        29\n",
      "   macro avg       0.01      0.12      0.02        29\n",
      "weighted avg       0.01      0.10      0.02        29\n",
      "\n"
     ]
    }
   ],
   "source": [
    "print(\"\\nSupport Vector Machine (SVM) Accuracy:\", accuracy_score(y_test, svm_preds))\n",
    "print(\"SVM Classification Report:\\n\", classification_report(y_test, svm_preds, zero_division=0))"
   ]
  },
  {
   "cell_type": "code",
   "execution_count": null,
   "id": "a90ec8fc-71d6-4bde-a52f-e53a973cf4ce",
   "metadata": {},
   "outputs": [],
   "source": []
  }
 ],
 "metadata": {
  "kernelspec": {
   "display_name": "Python [conda env:base] *",
   "language": "python",
   "name": "conda-base-py"
  },
  "language_info": {
   "codemirror_mode": {
    "name": "ipython",
    "version": 3
   },
   "file_extension": ".py",
   "mimetype": "text/x-python",
   "name": "python",
   "nbconvert_exporter": "python",
   "pygments_lexer": "ipython3",
   "version": "3.12.4"
  }
 },
 "nbformat": 4,
 "nbformat_minor": 5
}
